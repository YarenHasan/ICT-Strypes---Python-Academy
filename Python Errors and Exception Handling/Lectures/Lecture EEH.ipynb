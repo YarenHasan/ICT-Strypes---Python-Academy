{
 "cells": [
  {
   "cell_type": "code",
   "execution_count": 1,
   "id": "133a7dec-2fa9-463d-87cb-75d3261230e9",
   "metadata": {},
   "outputs": [],
   "source": [
    "def add(n1,n2):\n",
    "    print(sum((n1,n2)))"
   ]
  },
  {
   "cell_type": "code",
   "execution_count": 3,
   "id": "7b2d6466-625a-464f-a8b3-9fc494f1964f",
   "metadata": {},
   "outputs": [
    {
     "name": "stdout",
     "output_type": "stream",
     "text": [
      "30\n"
     ]
    }
   ],
   "source": [
    "add(10,20)"
   ]
  },
  {
   "cell_type": "code",
   "execution_count": 5,
   "id": "d746f72d-496c-444f-8d7e-40494f09e1bf",
   "metadata": {},
   "outputs": [],
   "source": [
    "number1 = 10"
   ]
  },
  {
   "cell_type": "code",
   "execution_count": 13,
   "id": "7bc638f4-3ee4-4e72-9a4f-3e56ade6e18b",
   "metadata": {},
   "outputs": [
    {
     "name": "stdin",
     "output_type": "stream",
     "text": [
      "Please provide a number: 20\n"
     ]
    }
   ],
   "source": [
    "number2 = input('Please provide a number:')"
   ]
  },
  {
   "cell_type": "code",
   "execution_count": 17,
   "id": "261d2699-ee5f-4617-bd81-9b302fc6e8c1",
   "metadata": {},
   "outputs": [
    {
     "ename": "TypeError",
     "evalue": "unsupported operand type(s) for +: 'int' and 'str'",
     "output_type": "error",
     "traceback": [
      "\u001b[1;31m---------------------------------------------------------------------------\u001b[0m",
      "\u001b[1;31mTypeError\u001b[0m                                 Traceback (most recent call last)",
      "Cell \u001b[1;32mIn[17], line 1\u001b[0m\n\u001b[1;32m----> 1\u001b[0m add(number1,number2)\n\u001b[0;32m      2\u001b[0m \u001b[38;5;28mprint\u001b[39m(\u001b[38;5;124m'\u001b[39m\u001b[38;5;124mSomething happened!\u001b[39m\u001b[38;5;124m'\u001b[39m)\n",
      "Cell \u001b[1;32mIn[1], line 2\u001b[0m, in \u001b[0;36madd\u001b[1;34m(n1, n2)\u001b[0m\n\u001b[0;32m      1\u001b[0m \u001b[38;5;28;01mdef\u001b[39;00m \u001b[38;5;21madd\u001b[39m(n1,n2):\n\u001b[1;32m----> 2\u001b[0m     \u001b[38;5;28mprint\u001b[39m(\u001b[38;5;28msum\u001b[39m((n1,n2)))\n",
      "\u001b[1;31mTypeError\u001b[0m: unsupported operand type(s) for +: 'int' and 'str'"
     ]
    }
   ],
   "source": [
    "add(number1,number2)\n",
    "print('Something happened!')"
   ]
  },
  {
   "cell_type": "code",
   "execution_count": 19,
   "id": "3a193ca7-bedb-4ac8-aad8-cae4e90efbdd",
   "metadata": {},
   "outputs": [],
   "source": [
    "try:\n",
    "    #WANT TO ATTEMPT THIS CODE, BUT IT MAY HAVE AN ERROR\n",
    "    result = 10 + 10\n",
    "except:\n",
    "    print('Hey it looks like you are not adding correctly!')"
   ]
  },
  {
   "cell_type": "code",
   "execution_count": 21,
   "id": "28035637-5f38-44f5-b883-f05e98ac5757",
   "metadata": {},
   "outputs": [
    {
     "data": {
      "text/plain": [
       "20"
      ]
     },
     "execution_count": 21,
     "metadata": {},
     "output_type": "execute_result"
    }
   ],
   "source": [
    "result"
   ]
  },
  {
   "cell_type": "code",
   "execution_count": 23,
   "id": "eb786b74-cd1f-42e7-8d13-2c356b46a460",
   "metadata": {},
   "outputs": [
    {
     "name": "stdout",
     "output_type": "stream",
     "text": [
      "Hey it looks like you are not adding correctly!\n"
     ]
    }
   ],
   "source": [
    "try:\n",
    "    #WANT TO ATTEMPT THIS CODE, BUT IT MAY HAVE AN ERROR\n",
    "    result = 10 + '10'\n",
    "except:\n",
    "    print('Hey it looks like you are not adding correctly!')"
   ]
  },
  {
   "cell_type": "code",
   "execution_count": 27,
   "id": "0d093275-d6a6-482f-b94a-132f95e4a8ce",
   "metadata": {},
   "outputs": [
    {
     "name": "stdout",
     "output_type": "stream",
     "text": [
      "Add went well\n",
      "20\n"
     ]
    }
   ],
   "source": [
    "try:\n",
    "    #WANT TO ATTEMPT THIS CODE, BUT IT MAY HAVE AN ERROR\n",
    "    result = 10 + 10\n",
    "except:\n",
    "    print('Hey it looks like you are not adding correctly!')\n",
    "else:\n",
    "    print('Add went well')\n",
    "    print(result)"
   ]
  },
  {
   "cell_type": "code",
   "execution_count": null,
   "id": "4be042c5-2394-4ac3-9209-137cdad5ff91",
   "metadata": {},
   "outputs": [],
   "source": []
  },
  {
   "cell_type": "code",
   "execution_count": 29,
   "id": "19b61edc-d764-4b7b-81e1-75a4c663e08c",
   "metadata": {},
   "outputs": [
    {
     "name": "stdout",
     "output_type": "stream",
     "text": [
      "I always run\n"
     ]
    }
   ],
   "source": [
    "try:\n",
    "    f = open('testfile', 'w')\n",
    "    f.write('Write a test line')\n",
    "except TypeError:\n",
    "    print('There was a type error!')\n",
    "except OSError:\n",
    "    print('Hey you have an OS Error')\n",
    "finally:\n",
    "    print('I always run')"
   ]
  },
  {
   "cell_type": "code",
   "execution_count": 31,
   "id": "1fa043fd-40ed-4c5e-9715-bafe2735b108",
   "metadata": {},
   "outputs": [
    {
     "name": "stdout",
     "output_type": "stream",
     "text": [
      "Hey you have an OS Error\n",
      "I always run\n"
     ]
    }
   ],
   "source": [
    "try:\n",
    "    f = open('testfile', 'r')\n",
    "    f.write('Write a test line')\n",
    "except TypeError:\n",
    "    print('There was a type error!')\n",
    "except OSError:\n",
    "    print('Hey you have an OS Error')\n",
    "finally:\n",
    "    print('I always run')"
   ]
  },
  {
   "cell_type": "code",
   "execution_count": null,
   "id": "e6f9593f-7c41-4b07-8b66-8812e03a9a1e",
   "metadata": {},
   "outputs": [],
   "source": []
  },
  {
   "cell_type": "code",
   "execution_count": 45,
   "id": "7d7cea97-c4a1-4a82-9220-cf9de31cd75d",
   "metadata": {},
   "outputs": [],
   "source": [
    "def ask_for_int():\n",
    "    while True:\n",
    "        try:\n",
    "            result = int(input('Please provide number: '))\n",
    "        except:\n",
    "            print('Whoops! That is not a number')\n",
    "            continue\n",
    "        else:\n",
    "            print('Yes thank you')\n",
    "            break\n",
    "        finally:\n",
    "            print('I am going to ask you again! \\n')"
   ]
  },
  {
   "cell_type": "code",
   "execution_count": 47,
   "id": "8c16af15-a426-4e56-82e8-7eb14f2e17ce",
   "metadata": {},
   "outputs": [
    {
     "name": "stdin",
     "output_type": "stream",
     "text": [
      "Please provide number:  a\n"
     ]
    },
    {
     "name": "stdout",
     "output_type": "stream",
     "text": [
      "Whoops! That is not a number\n",
      "I am going to ask you again! \n",
      "\n"
     ]
    },
    {
     "name": "stdin",
     "output_type": "stream",
     "text": [
      "Please provide number:  egedf\n"
     ]
    },
    {
     "name": "stdout",
     "output_type": "stream",
     "text": [
      "Whoops! That is not a number\n",
      "I am going to ask you again! \n",
      "\n"
     ]
    },
    {
     "name": "stdin",
     "output_type": "stream",
     "text": [
      "Please provide number:  ds\n"
     ]
    },
    {
     "name": "stdout",
     "output_type": "stream",
     "text": [
      "Whoops! That is not a number\n",
      "I am going to ask you again! \n",
      "\n"
     ]
    },
    {
     "name": "stdin",
     "output_type": "stream",
     "text": [
      "Please provide number:  we\n"
     ]
    },
    {
     "name": "stdout",
     "output_type": "stream",
     "text": [
      "Whoops! That is not a number\n",
      "I am going to ask you again! \n",
      "\n"
     ]
    },
    {
     "name": "stdin",
     "output_type": "stream",
     "text": [
      "Please provide number:  q\n"
     ]
    },
    {
     "name": "stdout",
     "output_type": "stream",
     "text": [
      "Whoops! That is not a number\n",
      "I am going to ask you again! \n",
      "\n"
     ]
    },
    {
     "name": "stdin",
     "output_type": "stream",
     "text": [
      "Please provide number:  ghfg\n"
     ]
    },
    {
     "name": "stdout",
     "output_type": "stream",
     "text": [
      "Whoops! That is not a number\n",
      "I am going to ask you again! \n",
      "\n"
     ]
    },
    {
     "name": "stdin",
     "output_type": "stream",
     "text": [
      "Please provide number:  hfgsdfd\n"
     ]
    },
    {
     "name": "stdout",
     "output_type": "stream",
     "text": [
      "Whoops! That is not a number\n",
      "I am going to ask you again! \n",
      "\n"
     ]
    },
    {
     "name": "stdin",
     "output_type": "stream",
     "text": [
      "Please provide number:  asdaf\n"
     ]
    },
    {
     "name": "stdout",
     "output_type": "stream",
     "text": [
      "Whoops! That is not a number\n",
      "I am going to ask you again! \n",
      "\n"
     ]
    },
    {
     "name": "stdin",
     "output_type": "stream",
     "text": [
      "Please provide number:  sfse\n"
     ]
    },
    {
     "name": "stdout",
     "output_type": "stream",
     "text": [
      "Whoops! That is not a number\n",
      "I am going to ask you again! \n",
      "\n"
     ]
    },
    {
     "name": "stdin",
     "output_type": "stream",
     "text": [
      "Please provide number:  99\n"
     ]
    },
    {
     "name": "stdout",
     "output_type": "stream",
     "text": [
      "Yes thank you\n",
      "I am going to ask you again! \n",
      "\n"
     ]
    }
   ],
   "source": [
    "ask_for_int()"
   ]
  },
  {
   "cell_type": "code",
   "execution_count": 49,
   "id": "5b06dcef-1267-4572-9200-18982b67749a",
   "metadata": {},
   "outputs": [],
   "source": [
    "def ask_for_int():\n",
    "    while True:\n",
    "        try:\n",
    "            result = int(input('Please provide number: '))\n",
    "        except:\n",
    "            print('Whoops! That is not a number')\n",
    "            continue\n",
    "        else:\n",
    "            print('Yes thank you')\n",
    "            break"
   ]
  },
  {
   "cell_type": "code",
   "execution_count": 51,
   "id": "a02b5858-51e1-42e3-bdcb-575c6f002ac5",
   "metadata": {},
   "outputs": [
    {
     "name": "stdin",
     "output_type": "stream",
     "text": [
      "Please provide number:  df\n"
     ]
    },
    {
     "name": "stdout",
     "output_type": "stream",
     "text": [
      "Whoops! That is not a number\n"
     ]
    },
    {
     "name": "stdin",
     "output_type": "stream",
     "text": [
      "Please provide number:  qwd\n"
     ]
    },
    {
     "name": "stdout",
     "output_type": "stream",
     "text": [
      "Whoops! That is not a number\n"
     ]
    },
    {
     "name": "stdin",
     "output_type": "stream",
     "text": [
      "Please provide number:  ef\n"
     ]
    },
    {
     "name": "stdout",
     "output_type": "stream",
     "text": [
      "Whoops! That is not a number\n"
     ]
    },
    {
     "name": "stdin",
     "output_type": "stream",
     "text": [
      "Please provide number:  q\n"
     ]
    },
    {
     "name": "stdout",
     "output_type": "stream",
     "text": [
      "Whoops! That is not a number\n"
     ]
    },
    {
     "name": "stdin",
     "output_type": "stream",
     "text": [
      "Please provide number:  ds\n"
     ]
    },
    {
     "name": "stdout",
     "output_type": "stream",
     "text": [
      "Whoops! That is not a number\n"
     ]
    },
    {
     "name": "stdin",
     "output_type": "stream",
     "text": [
      "Please provide number:  as\n"
     ]
    },
    {
     "name": "stdout",
     "output_type": "stream",
     "text": [
      "Whoops! That is not a number\n"
     ]
    },
    {
     "name": "stdin",
     "output_type": "stream",
     "text": [
      "Please provide number:  \n"
     ]
    },
    {
     "name": "stdout",
     "output_type": "stream",
     "text": [
      "Whoops! That is not a number\n"
     ]
    },
    {
     "name": "stdin",
     "output_type": "stream",
     "text": [
      "Please provide number:  as\n"
     ]
    },
    {
     "name": "stdout",
     "output_type": "stream",
     "text": [
      "Whoops! That is not a number\n"
     ]
    },
    {
     "name": "stdin",
     "output_type": "stream",
     "text": [
      "Please provide number:  90\n"
     ]
    },
    {
     "name": "stdout",
     "output_type": "stream",
     "text": [
      "Yes thank you\n"
     ]
    }
   ],
   "source": [
    "ask_for_int()"
   ]
  },
  {
   "cell_type": "code",
   "execution_count": null,
   "id": "fee256ca-2ba8-4f8c-83bd-fb74f0cca2ac",
   "metadata": {},
   "outputs": [],
   "source": []
  }
 ],
 "metadata": {
  "kernelspec": {
   "display_name": "Python [conda env:base] *",
   "language": "python",
   "name": "conda-base-py"
  },
  "language_info": {
   "codemirror_mode": {
    "name": "ipython",
    "version": 3
   },
   "file_extension": ".py",
   "mimetype": "text/x-python",
   "name": "python",
   "nbconvert_exporter": "python",
   "pygments_lexer": "ipython3",
   "version": "3.12.7"
  }
 },
 "nbformat": 4,
 "nbformat_minor": 5
}
