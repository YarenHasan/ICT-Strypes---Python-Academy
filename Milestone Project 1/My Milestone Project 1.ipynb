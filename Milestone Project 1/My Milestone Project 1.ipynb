{
 "cells": [
  {
   "cell_type": "code",
   "execution_count": 13,
   "id": "cf2231c9-3e32-4862-a8c1-e402df143940",
   "metadata": {},
   "outputs": [],
   "source": [
    "from IPython.display import clear_output\n",
    "\n",
    "def display_board(board):\n",
    "    clear_output()\n",
    "    print(\"\\n\\t\", board[7], \"|\", board[8], \"|\", board[9])\n",
    "    print(\"\\t\", \"---------\")\n",
    "    print(\"\\n\\t\", board[4], \"|\", board[5], \"|\", board[6])\n",
    "    print(\"\\t\", \"---------\")\n",
    "    print(\"\\n\\t\", board[1], \"|\", board[2], \"|\", board[3], \"\\n\")"
   ]
  },
  {
   "cell_type": "code",
   "execution_count": 34,
   "id": "6c290727-7bea-4ff3-802c-c4b99e2567ea",
   "metadata": {},
   "outputs": [],
   "source": [
    "def player_input():\n",
    "    marker = ''\n",
    "    while marker != 'X' and marker != 'O':\n",
    "        marker = input('Player 1, please choose X or O: ')\n",
    "        \n",
    "    player1 = marker\n",
    "    if player1 == 'X':\n",
    "        player2 = 'O'\n",
    "    else:\n",
    "        player2 = 'X'\n",
    "        \n",
    "    return(player1,player2)"
   ]
  },
  {
   "cell_type": "code",
   "execution_count": 36,
   "id": "0277b781-892d-4191-8ca0-dc83d84859b0",
   "metadata": {},
   "outputs": [],
   "source": [
    "def place_marker(board, marker, position):\n",
    "    board[position] = marker\n",
    "    return board"
   ]
  },
  {
   "cell_type": "code",
   "execution_count": 38,
   "id": "c129cfae-5e5f-475c-ba86-a805c6367e12",
   "metadata": {},
   "outputs": [],
   "source": [
    "def win_check(board, mark):\n",
    "    for win in board:\n",
    "        if board[1] == board[2] == board[3] == mark or board[4] == board[5] == board[6] == mark:\n",
    "            return True\n",
    "        elif board[7] == board[8] == board[9] == mark or board[1] == board[4] == board[7] == mark:\n",
    "            return True\n",
    "        elif board[2] == board[5] == board[8] == mark or board[3] == board[6] == board[9] == mark:\n",
    "            return True\n",
    "        elif board[3] == board[5] == board[7] == mark or board[1] == board[5] == board[9] == mark:\n",
    "            return True\n",
    "        else:\n",
    "            return False"
   ]
  },
  {
   "cell_type": "code",
   "execution_count": 40,
   "id": "2b2dde28-ca41-457a-8eec-56ba06080e0b",
   "metadata": {},
   "outputs": [],
   "source": [
    "import random\n",
    "\n",
    "def choose_first():\n",
    "    if random.randint(0,1) % 2 == 0:\n",
    "        return 'Player1'\n",
    "    else:\n",
    "        return 'Player2'"
   ]
  },
  {
   "cell_type": "code",
   "execution_count": 42,
   "id": "3299ea67-196b-4da1-ab3a-da72b4636957",
   "metadata": {},
   "outputs": [],
   "source": [
    "def space_check(board, position):\n",
    "    return board[position] == ' '"
   ]
  },
  {
   "cell_type": "code",
   "execution_count": 44,
   "id": "3f2dc214-794a-417d-aa8e-ba63e8610a27",
   "metadata": {},
   "outputs": [],
   "source": [
    "def full_board_check(board):\n",
    "    for i in range(1,10):\n",
    "        if space_check(board,i):\n",
    "            return False\n",
    "    return True"
   ]
  },
  {
   "cell_type": "code",
   "execution_count": 46,
   "id": "42ca93d7-8317-47a4-867b-96418e9b1d7e",
   "metadata": {},
   "outputs": [],
   "source": [
    "def player_choice(board):\n",
    "    \n",
    "    position = 0\n",
    "    \n",
    "    while position not in[1,2,3,4,5,6,7,8,9] or not space_check(board, position):\n",
    "        position = int(input('Choose your next position (1-9): '))\n",
    "    return position"
   ]
  },
  {
   "cell_type": "code",
   "execution_count": 48,
   "id": "676d16ec-b81b-4b7c-95a7-52e38de45fde",
   "metadata": {},
   "outputs": [],
   "source": [
    "def replay():\n",
    "    choice = 'wrong'\n",
    "    \n",
    "    while choice not in ['Yes','No']:\n",
    "        choice = input('Do you want to keep playing? (Yes or No) ')\n",
    "        \n",
    "        if choice not in ['Yes','No']:\n",
    "            print('Sorry, I do not understand, please choose Yes or No')\n",
    "            \n",
    "    if choice == 'Yes':\n",
    "        return True\n",
    "    else:\n",
    "        return False"
   ]
  },
  {
   "cell_type": "code",
   "execution_count": 52,
   "id": "e24965d8-26ce-4f79-8849-47489e9c1d5e",
   "metadata": {},
   "outputs": [
    {
     "name": "stdout",
     "output_type": "stream",
     "text": [
      "\n",
      "\t   |   | X\n",
      "\t ---------\n",
      "\n",
      "\t   | X | O\n",
      "\t ---------\n",
      "\n",
      "\t X | O | O \n",
      "\n",
      "Player 1 has won!\n"
     ]
    },
    {
     "name": "stdin",
     "output_type": "stream",
     "text": [
      "Do you want to keep playing? (Yes or No)  8\n"
     ]
    },
    {
     "name": "stdout",
     "output_type": "stream",
     "text": [
      "Sorry, I do not understand, please choose Yes or No\n"
     ]
    },
    {
     "name": "stdin",
     "output_type": "stream",
     "text": [
      "Do you want to keep playing? (Yes or No)  no\n"
     ]
    },
    {
     "name": "stdout",
     "output_type": "stream",
     "text": [
      "Sorry, I do not understand, please choose Yes or No\n"
     ]
    },
    {
     "name": "stdin",
     "output_type": "stream",
     "text": [
      "Do you want to keep playing? (Yes or No)  No\n"
     ]
    }
   ],
   "source": [
    "print('Welcome to Tic Tac Toe!')\n",
    "\n",
    "while True:\n",
    "    the_board = [' ']*10\n",
    "    player1_marker, player2_marker = player_input()\n",
    "    \n",
    "    turn = choose_first()\n",
    "    print(turn + ' will go first.')\n",
    "    play_game = input('Ready to play? yes or no?')\n",
    "    \n",
    "    if play_game == 'yes':\n",
    "        game_on = True\n",
    "    else:\n",
    "        game_on = False\n",
    "        \n",
    "    while game_on:\n",
    "        if turn == 'Player 1':\n",
    "            display_board(the_board)\n",
    "            position = player_choice(the_board)\n",
    "            place_marker(the_board,player1_marker,position)\n",
    "            \n",
    "            if win_check(the_board,player1_marker):\n",
    "                display_board(the_board)\n",
    "                print('Player 1 has won!')\n",
    "                game_on = False\n",
    "            else:\n",
    "                if full_board_check(the_board):\n",
    "                    display_board(the_board)\n",
    "                    print('Tie game!')\n",
    "                    game_on = False\n",
    "                else:\n",
    "                    turn = 'Player 2'\n",
    "        else:\n",
    "            display_board(the_board)\n",
    "            position = player_choice(the_board)\n",
    "            place_marker(the_board,player2_marker,position)\n",
    "            \n",
    "            if win_check(the_board,player2_marker):\n",
    "                display_board(the_board)\n",
    "                print('Player 2 has won!')\n",
    "                game_on = False\n",
    "            else:\n",
    "                if full_board_check(the_board):\n",
    "                    display_board(the_board)\n",
    "                    print('Tie game!')\n",
    "                    game_on = False\n",
    "                else:\n",
    "                    turn = 'Player 1'\n",
    "                    \n",
    "    if not replay():\n",
    "        break"
   ]
  },
  {
   "cell_type": "code",
   "execution_count": null,
   "id": "101051e5-5a16-43ac-8f6a-29f2c9627fd2",
   "metadata": {},
   "outputs": [],
   "source": []
  }
 ],
 "metadata": {
  "kernelspec": {
   "display_name": "Python [conda env:base] *",
   "language": "python",
   "name": "conda-base-py"
  },
  "language_info": {
   "codemirror_mode": {
    "name": "ipython",
    "version": 3
   },
   "file_extension": ".py",
   "mimetype": "text/x-python",
   "name": "python",
   "nbconvert_exporter": "python",
   "pygments_lexer": "ipython3",
   "version": "3.12.7"
  }
 },
 "nbformat": 4,
 "nbformat_minor": 5
}
